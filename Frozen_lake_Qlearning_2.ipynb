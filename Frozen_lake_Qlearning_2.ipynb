{
 "cells": [
  {
   "cell_type": "code",
   "execution_count": 130,
   "id": "a44f8b40-743b-427f-b092-42750f8505ec",
   "metadata": {},
   "outputs": [
    {
     "name": "stdout",
     "output_type": "stream",
     "text": [
      "['SFHF', 'FFFF', 'FFFF', 'FHFG']\n",
      "Q-table before training:\n",
      "[[0. 0. 0. 0.]\n",
      " [0. 0. 0. 0.]\n",
      " [0. 0. 0. 0.]\n",
      " [0. 0. 0. 0.]\n",
      " [0. 0. 0. 0.]\n",
      " [0. 0. 0. 0.]\n",
      " [0. 0. 0. 0.]\n",
      " [0. 0. 0. 0.]\n",
      " [0. 0. 0. 0.]\n",
      " [0. 0. 0. 0.]\n",
      " [0. 0. 0. 0.]\n",
      " [0. 0. 0. 0.]\n",
      " [0. 0. 0. 0.]\n",
      " [0. 0. 0. 0.]\n",
      " [0. 0. 0. 0.]\n",
      " [0. 0. 0. 0.]]\n",
      "\n",
      "===========================================\n",
      "Q-table after training:\n",
      "[[0.17696325 0.37210168 0.17614797 0.17796791]\n",
      " [0.40047253 0.14894518 0.09207371 0.16210941]\n",
      " [0.         0.         0.         0.        ]\n",
      " [0.17695259 0.11262054 0.32747395 0.24350017]\n",
      " [0.19559472 0.19181954 0.38074238 0.19152622]\n",
      " [0.20648057 0.39325469 0.2038652  0.20637989]\n",
      " [0.11318197 0.60456882 0.20054365 0.17874991]\n",
      " [0.34110558 0.71642811 0.34164021 0.33545356]\n",
      " [0.19946338 0.18379689 0.18859838 0.39539253]\n",
      " [0.17059171 0.1705217  0.10385712 0.53752544]\n",
      " [0.34762187 0.35480045 0.72194388 0.36247031]\n",
      " [0.40292238 0.94498703 0.4042277  0.40436408]\n",
      " [0.17831999 0.08513016 0.07762274 0.09201649]\n",
      " [0.         0.         0.         0.        ]\n",
      " [0.3083258  0.369136   0.8951501  0.3616112 ]\n",
      " [0.         0.         0.         0.        ]]\n"
     ]
    },
    {
     "data": {
      "image/png": "[encoded data removed]",
      "text/plain": [
       "<Figure size 864x360 with 1 Axes>"
      ]
     },
     "metadata": {
      "needs_background": "light"
     },
     "output_type": "display_data"
    },
    {
     "name": "stdout",
     "output_type": "stream",
     "text": [
      "100.0\n",
      "Success rate = 100.0%\n"
     ]
    }
   ],
   "source": [
    "import gym\n",
    "import random\n",
    "import numpy as np\n",
    "import matplotlib.pyplot as plt\n",
    "from IPython.display import clear_output\n",
    "from gym.envs.toy_text.frozen_lake import generate_random_map\n",
    "\n",
    "random_map=['SFHF', 'FFFF', 'FFFF', 'FHFG']\n",
    "#random_map=['SFFFHFFFFFFFFFF', 'FFFFFFFHFFFHFFF', 'FFFHFHFFFFFFFFF', 'FFFFFFFFFFFFFHF', 'FFFFFHHFFHFFFFF', 'FFFFFFFFFFFFFFF', 'FFFFFFHFFHFFHFF', 'FFFFFFFFFFHHFFF', 'FFFFFFFFFFFFFFF', 'FFFFFFFFFFFFFFF', 'FFFFFFFHFFFFFFH', 'FFHFFFFFFFFHFHF', 'FFFFHFFFFFFFHFF', 'FFFHFFFFFFFFFFF', 'FFFFFFHFFHFFFFG']\n",
    "#random_map = generate_random_map(size=8, p=0.9)\n",
    "print(random_map)\n",
    "environment = gym.make('FrozenLake-v1', desc=random_map, is_slippery=True, render_mode=\"rgb_array\")\n",
    "environment.reset()\n",
    "\n",
    "# We re-initialize the Q-table\n",
    "qtable = np.zeros((environment.observation_space.n, environment.action_space.n))\n",
    "\n",
    "# Hyperparameters\n",
    "episodes = 10000        # Total number of episodes\n",
    "alpha = 0.5            # Learning rate\n",
    "gamma = 0.95            # Discount factor\n",
    "epsilon = 1.0          # Amount of randomness in the action selection\n",
    "epsilon_decay = 0.001  # Fixed amount to decrease\n",
    "\n",
    "# List of outcomes to plot\n",
    "outcomes = []\n",
    "\n",
    "print('Q-table before training:')\n",
    "print(qtable)\n",
    "\n",
    "# Training\n",
    "for _ in range(episodes):\n",
    "    state = environment.reset()[0]\n",
    "    done = False\n",
    "\n",
    "    # By default, we consider our outcome to be a failure\n",
    "    outcomes.append(\"Failure\")\n",
    "    \n",
    "    # Until the agent gets stuck in a hole or reaches the goal, keep training it\n",
    "    while not done:\n",
    "        # Generate a random number between 0 and 1\n",
    "        rnd = np.random.random()\n",
    "\n",
    "        # If random number < epsilon, take a random action\n",
    "        if rnd < epsilon:\n",
    "          action = environment.action_space.sample()\n",
    "        # Else, take the action with the highest value in the current state\n",
    "        else:\n",
    "          action = np.argmax(qtable[state])\n",
    "             \n",
    "        # Implement this action and move the agent in the desired direction\n",
    "        new_state, reward, done, info = environment.step(action)[0:4]\n",
    "\n",
    "        # Update Q(s,a)\n",
    "        qtable[state, action] = qtable[state, action] + \\\n",
    "                                alpha * (reward + gamma * np.max(qtable[new_state]) - qtable[state, action])\n",
    "        \n",
    "        # Update our current state\n",
    "        state = new_state\n",
    "\n",
    "        # If we have a reward, it means that our outcome is a success\n",
    "        if reward:\n",
    "          outcomes[-1] = \"Success\"\n",
    "\n",
    "    # Update epsilon\n",
    "    epsilon = max(epsilon - epsilon_decay, 0)\n",
    "\n",
    "print()\n",
    "print('===========================================')\n",
    "print('Q-table after training:')\n",
    "print(qtable)\n",
    "\n",
    "#print(outcomes)\n",
    "# Plot outcomes\n",
    "plt.figure(figsize=(12, 5))\n",
    "plt.xlabel(\"Run number\")\n",
    "plt.ylabel(\"Outcome\")\n",
    "ax = plt.gca()\n",
    "ax.set_facecolor('#efeeea')\n",
    "plt.bar(range(len(outcomes)), outcomes, color=\"#0A047A\", width=1.0)\n",
    "plt.show()\n",
    "\n",
    "episodes = 100\n",
    "nb_success = 0\n",
    "\n",
    "# Evaluation\n",
    "for _ in range(100):\n",
    "    state = environment.reset()[0]\n",
    "    done = False\n",
    "    \n",
    "    # Until the agent gets stuck or reaches the goal, keep training it\n",
    "    while not done:\n",
    "        # Choose the action with the highest value in the current state\n",
    "        action = np.argmax(qtable[state])\n",
    "\n",
    "        # Implement this action and move the agent in the desired direction\n",
    "        new_state, reward, done, info = environment.step(action)[0:4]\n",
    "\n",
    "        # Update our current state\n",
    "        state = new_state\n",
    "\n",
    "        # When we get a reward, it means we solved the game\n",
    "        nb_success += reward\n",
    "\n",
    "print(nb_success)\n",
    "# Let's check our success rate!\n",
    "print (f\"Success rate = {nb_success/episodes*100}%\")"
   ]
  },
  {
   "cell_type": "code",
   "execution_count": 128,
   "id": "2a643c76-7de3-4fc0-ab79-f18417274b2e",
   "metadata": {},
   "outputs": [
    {
     "name": "stdout",
     "output_type": "stream",
     "text": [
      "[(0, 1), (1, 0), 0, 0, 0, 0, (3, 2), (4, 1), (5, 2), (6, 1), (7, 1), (8, 3), (9, 3), (10, 2), (11, 1), (12, 0), 0, 0, 0, 0, (14, 2), 0, 0, 0, 0]\n"
     ]
    }
   ],
   "source": [
    "policy_list=[]\n",
    "size_frozen_lake=4\n",
    "for i in range (size_frozen_lake*size_frozen_lake):\n",
    "    current_max=np.max(qtable[i,:])\n",
    "    for j in range (size):\n",
    "        if current_max==0:\n",
    "            policy_list.append(0)\n",
    "        if current_max!=0:\n",
    "            if qtable[i,j]==current_max:\n",
    "                policy_list.append((i,j))\n",
    "print(policy_list)"
   ]
  },
  {
   "cell_type": "code",
   "execution_count": 123,
   "id": "1264b043-1b27-44fc-b8d5-3605ba8c1112",
   "metadata": {},
   "outputs": [
    {
     "name": "stdout",
     "output_type": "stream",
     "text": [
      "(1, 0, 0, 2, 1, 1, 1, 1, 3, 3, 2, 1, 0, 0, 2, 0)\n",
      "['SFHF', 'FFFF', 'FFFF', 'FHFG']\n"
     ]
    }
   ],
   "source": [
    "policy_95=(1,0,0,2,1,1,1,1,3,3,2,1,0,0,2,0)\n",
    "policy_90=(2,0,0,2,1,1,1,1,3,3,2,1,0,0,2,0)\n",
    "policy_85=(1,0,0,2,1,2,1,1,3,3,2,1,0,0,2,0)\n",
    "policy_80=(2,0,0,2,3,2,1,1,3,2,2,1,0,0,2,0)\n",
    "policy=policy_95\n",
    "print(policy)\n",
    "print(random_map)"
   ]
  },
  {
   "cell_type": "code",
   "execution_count": 125,
   "id": "ff8e9b1a-586a-441b-887a-4c8f4f12d86c",
   "metadata": {},
   "outputs": [
    {
     "name": "stdout",
     "output_type": "stream",
     "text": [
      "[[1 0 0 2]\n",
      " [1 1 1 1]\n",
      " [3 3 2 1]\n",
      " [0 0 2 0]]\n"
     ]
    }
   ],
   "source": [
    "policy_reshape=np.reshape(policy,(size_frozen_lake,size_frozen_lake))\n",
    "print(policy_reshape)"
   ]
  },
  {
   "cell_type": "code",
   "execution_count": 126,
   "id": "a79993ee-e0a1-4193-bb2b-d3d3b8b67646",
   "metadata": {},
   "outputs": [
    {
     "data": {
      "image/png": "[encoded data removed]",
      "text/plain": [
       "<Figure size 432x288 with 1 Axes>"
      ]
     },
     "metadata": {
      "needs_background": "light"
     },
     "output_type": "display_data"
    }
   ],
   "source": [
    "fig = plt.figure()\n",
    "ax = fig.add_subplot(111, xlim=(0, policy_reshape.shape[1]), ylim=(0, policy_reshape.shape[0]))\n",
    "color_map=['blue','green','orange','red']\n",
    "\n",
    "for i in range(policy_reshape.shape[0]):\n",
    "    for j in range(policy_reshape.shape[1]):\n",
    "        state_corner_1=policy_reshape.shape[0]-i-1\n",
    "        state_corner_2=j\n",
    "        state_rectangle = plt.Rectangle([state_corner_2, state_corner_1], 1, 1)\n",
    "        state_rectangle.set_facecolor(color_map[policy_reshape[i,j]])\n",
    "        ax.add_patch(state_rectangle)\n",
    "        \n",
    "        if policy_reshape[i,j]==0:\n",
    "            plt.arrow(state_corner_2+0.75, state_corner_1+0.5, -0.25, 0,head_width = 0.2,width = 0.05,ec ='white')\n",
    "        if policy_reshape[i,j]==1:\n",
    "            plt.arrow(state_corner_2+0.5, state_corner_1+0.75, 0, -0.25,head_width = 0.2,width = 0.05,ec ='white')\n",
    "        if policy_reshape[i,j]==2:\n",
    "            plt.arrow(state_corner_2+0.25, state_corner_1+0.5, 0.25, 0,head_width = 0.2,width = 0.05,ec ='white')\n",
    "        if policy_reshape[i,j]==3:\n",
    "            plt.arrow(state_corner_2+0.5, state_corner_1+0.25, 0, 0.25,head_width = 0.2,width = 0.05,ec ='white')\n",
    "        \n",
    "plt.axis('on')\n",
    "plt.title('Best Policy after QLearning')\n",
    "plt.xlim((0, policy_reshape.shape[1]))\n",
    "plt.ylim((0, policy_reshape.shape[0]))\n",
    "plt.tight_layout()\n",
    "#plt.savefig(title+str('.png'))\n",
    "plt.show()"
   ]
  },
  {
   "cell_type": "code",
   "execution_count": null,
   "id": "5d0c01b7-0798-4ea1-af07-3cbc6a32dae8",
   "metadata": {},
   "outputs": [],
   "source": []
  }
 ],
 "metadata": {
  "kernelspec": {
   "display_name": "Python 3 (ipykernel)",
   "language": "python",
   "name": "python3"
  },
  "language_info": {
   "codemirror_mode": {
    "name": "ipython",
    "version": 3
   },
   "file_extension": ".py",
   "mimetype": "text/x-python",
   "name": "python",
   "nbconvert_exporter": "python",
   "pygments_lexer": "ipython3",
   "version": "3.9.12"
  }
 },
 "nbformat": 4,
 "nbformat_minor": 5
}
